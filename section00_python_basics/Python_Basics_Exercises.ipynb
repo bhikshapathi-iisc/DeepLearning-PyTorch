{
 "cells": [
  {
   "cell_type": "markdown",
   "metadata": {},
   "source": [
    "### Exercise 1: \n",
    "Write a Python program to find the numbers between 1800 and 2400 (inclusive) that are multiples of both 5 and 8."
   ]
  },
  {
   "cell_type": "code",
   "execution_count": null,
   "metadata": {},
   "outputs": [],
   "source": []
  },
  {
   "cell_type": "markdown",
   "metadata": {},
   "source": [
    "### Exercise2:\n",
    "Write a Python program to construct the following pattern, using a nested for loop.\n",
    "\n",
    "    * \n",
    "    * * \n",
    "    * * * \n",
    "    * * * * \n",
    "    * * * * * \n",
    "    * * * * \n",
    "    * * * \n",
    "    * * \n",
    "    *\n",
    "\n",
    "Note: to print without a newline after the text write print(\"Text to print\", end=\"\")"
   ]
  },
  {
   "cell_type": "code",
   "execution_count": null,
   "metadata": {},
   "outputs": [],
   "source": []
  },
  {
   "cell_type": "markdown",
   "metadata": {},
   "source": [
    "### Exercise3:\n",
    "Create a function that sorts the following lists of numbers from ascending or decending order"
   ]
  },
  {
   "cell_type": "code",
   "execution_count": null,
   "metadata": {},
   "outputs": [],
   "source": [
    "def sort_list(list_of_numbers, ascending = True):\n",
    "    #####Complete the function####\n",
    "\n",
    "print(sort_list([16, 2, 28, 19, 8, 5, 21, 12, 7]))\n",
    "print(sort_list([32, 8, 5, 21, 100, 21], ascending = False))\n",
    "print(sort_list([29]))"
   ]
  },
  {
   "cell_type": "markdown",
   "metadata": {},
   "source": [
    "#### Exercise 4:\n",
    "Write a Python function to calculate the factoral of a number. Pass the number as an arguement."
   ]
  },
  {
   "cell_type": "code",
   "execution_count": null,
   "metadata": {},
   "outputs": [],
   "source": [
    "def factorial(number):\n",
    "    #####Complete the function####\n",
    "\n",
    "    \n",
    "    \n",
    "print(factorial(5))"
   ]
  },
  {
   "cell_type": "markdown",
   "metadata": {},
   "source": [
    "### Exercise 5:\n",
    "Write a Python class named Circle constructed by a radius and two methods which will compute the area and the perimeter of a circle. (Use 3.14 as the value of pi)"
   ]
  },
  {
   "cell_type": "code",
   "execution_count": null,
   "metadata": {},
   "outputs": [],
   "source": [
    "class Circle():\n",
    "    ##### Complete __init__() function here\n",
    "    \n",
    "    \n",
    "    ##### Complete area method here\n",
    "    \n",
    "    \n",
    "    ##### Complete perimeter method here\n",
    "\n",
    "new_circle = Circle(8)\n",
    "print(\"Circle area %.2f\" % new_circle.area())\n",
    "print(\"Circle perimeter %.2f\" % new_circle.perimeter())"
   ]
  },
  {
   "cell_type": "markdown",
   "metadata": {},
   "source": [
    "### Exercise 6:\n",
    "Using the previous class create a new class that computes the volume and surface area of a cylinder by inheriting properties of the Circle class"
   ]
  },
  {
   "cell_type": "code",
   "execution_count": null,
   "metadata": {},
   "outputs": [],
   "source": [
    "class Cylinder(Circle):\n",
    "    ##### Complete __init__() function here\n",
    "\n",
    "    ##### Complete surface area method here\n",
    "\n",
    "    ##### Complete volume method here\n",
    "\n",
    "new_cylinder = Cylinder(8, 10)\n",
    "print(\"Cylinder surface area %.2f\" % new_cylinder.surface_area())\n",
    "print(\"Cylinder volume %.2f\" % new_cylinder.volume())"
   ]
  }
 ],
 "metadata": {
  "kernelspec": {
   "display_name": "Python 3",
   "language": "python",
   "name": "python3"
  },
  "language_info": {
   "codemirror_mode": {
    "name": "ipython",
    "version": 3
   },
   "file_extension": ".py",
   "mimetype": "text/x-python",
   "name": "python",
   "nbconvert_exporter": "python",
   "pygments_lexer": "ipython3",
   "version": "3.6.9"
  }
 },
 "nbformat": 4,
 "nbformat_minor": 2
}
